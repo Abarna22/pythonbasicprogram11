{
 "cells": [
  {
   "cell_type": "code",
   "execution_count": 1,
   "id": "b7c8b998",
   "metadata": {},
   "outputs": [
    {
     "name": "stdout",
     "output_type": "stream",
     "text": [
      "Enter the string:find words which are greater than given length k\n",
      "Enter the length of k:3\n",
      "['find', 'words', 'which', 'greater', 'than', 'given', 'length']\n"
     ]
    }
   ],
   "source": [
    "\"\"\"1. Write a Python program to find words which are greater than given length k?\n",
    "Ans\"\"\"\n",
    "string=input(\"Enter the string:\")\n",
    "k=int(input(\"Enter the length of k:\"))\n",
    "newstring=[]\n",
    "words=string.split(\" \")\n",
    "for i in words:\n",
    "    if len(i)>k:\n",
    "        newstring.append(i)\n",
    "print(newstring)"
   ]
  },
  {
   "cell_type": "code",
   "execution_count": 10,
   "id": "4205d62f",
   "metadata": {},
   "outputs": [
    {
     "name": "stdout",
     "output_type": "stream",
     "text": [
      "Enter the string:Python program\n",
      "Enter ith value:3\n",
      "['Pyhon', 'prgram']\n"
     ]
    }
   ],
   "source": [
    "\"\"\"2. Write a Python program for removing i-th character from a string?\n",
    "Ans\"\"\"\n",
    "string=input(\"Enter the string:\")\n",
    "i=int(input(\"Enter ith value:\"))\n",
    "test=[]\n",
    "word=string.split(\" \")\n",
    "for j in word:\n",
    "    x=j[:i-1]+j[i:]\n",
    "    test.append(x)\n",
    "print(test)"
   ]
  },
  {
   "cell_type": "code",
   "execution_count": 16,
   "id": "ed1d3ea1",
   "metadata": {},
   "outputs": [
    {
     "name": "stdout",
     "output_type": "stream",
     "text": [
      "Enter the string:Python program to split and join \n",
      "['Python', 'program', 'to', 'split', 'and', 'join', '']\n",
      "Pythonprogramtosplitandjoin\n"
     ]
    }
   ],
   "source": [
    "\"\"\"3. Write a Python program to split and join a string?\n",
    "Ans\"\"\"\n",
    "string=input(\"Enter the string:\")\n",
    "s=string.split(\" \")\n",
    "print(s)\n",
    "j=\"\".join(s)\n",
    "print(j)"
   ]
  },
  {
   "cell_type": "code",
   "execution_count": 19,
   "id": "f74c282d",
   "metadata": {},
   "outputs": [
    {
     "name": "stdout",
     "output_type": "stream",
     "text": [
      "StringA is a binary string.\n"
     ]
    }
   ],
   "source": [
    "\"\"\"4. Write a Python to check if a given string is binary string or not?\n",
    "Ans\"\"\"\n",
    "stringA = '0110101010111'\n",
    "b = {'0','1'}\n",
    "t = set(stringA)\n",
    "\n",
    "if b == t or t == {'0'} or t == {'1'}:\n",
    "    print(\"StringA is a binary string.\")\n",
    "else:\n",
    "    print(\"StringA is not a binary string.\")\n"
   ]
  },
  {
   "cell_type": "code",
   "execution_count": 37,
   "id": "94a2b775",
   "metadata": {},
   "outputs": [
    {
     "name": "stdout",
     "output_type": "stream",
     "text": [
      "Enter 1st string:apple banana pear\n",
      "enter 2nd string:banana cherry apple\n",
      " pear cherry\n"
     ]
    }
   ],
   "source": [
    "\"\"\"5. Write a Python program to find uncommon words from two Strings?\n",
    "Ans\"\"\"\n",
    "string1=input(\"Enter 1st string:\")\n",
    "string2=input(\"enter 2nd string:\")\n",
    "estring=''\n",
    "s1=string1.split()\n",
    "s2=string2.split()\n",
    "for i in s1:\n",
    "    if i not in s2:\n",
    "        estring=estring+\" \"+i\n",
    "for j in s2:\n",
    "    if j not in s1:\n",
    "        estring=estring+\" \"+j\n",
    "print(estring)\n",
    "            \n",
    "           "
   ]
  },
  {
   "cell_type": "code",
   "execution_count": 48,
   "id": "31323881",
   "metadata": {},
   "outputs": [
    {
     "name": "stdout",
     "output_type": "stream",
     "text": [
      "enter a string:apple\n",
      "['p']\n"
     ]
    }
   ],
   "source": [
    "\"\"\"6. Write a Python to find all duplicate characters in string?\n",
    "Ans\"\"\"\n",
    "string=input(\"enter a string:\")\n",
    "est=[]\n",
    "count=0\n",
    "for i in string:\n",
    "    if string.count(i)>1:\n",
    "        if i not in est:\n",
    "            est.append(i)\n",
    "print(est)\n",
    "       \n"
   ]
  },
  {
   "cell_type": "code",
   "execution_count": 56,
   "id": "76af356d",
   "metadata": {},
   "outputs": [
    {
     "name": "stdout",
     "output_type": "stream",
     "text": [
      "Enter any string: \"hello&!\n",
      "The string contains special characters.\n"
     ]
    }
   ],
   "source": [
    "\"\"\"7. Write a Python Program to check if a string contains any special character?\n",
    "Ans\"\"\"\n",
    "import re\n",
    "string = input('Enter any string: ')\n",
    "special_char = re.compile('[@_!#$%^&*()<>?/\\|}{~:]')\n",
    "if(special_char.search(string) == None):\n",
    "    print('String does not contain any special characters.')\n",
    "else:\n",
    "    print('The string contains special characters.')"
   ]
  },
  {
   "cell_type": "markdown",
   "id": "f757517b",
   "metadata": {},
   "source": []
  }
 ],
 "metadata": {
  "kernelspec": {
   "display_name": "Python 3",
   "language": "python",
   "name": "python3"
  },
  "language_info": {
   "codemirror_mode": {
    "name": "ipython",
    "version": 3
   },
   "file_extension": ".py",
   "mimetype": "text/x-python",
   "name": "python",
   "nbconvert_exporter": "python",
   "pygments_lexer": "ipython3",
   "version": "3.8.8"
  }
 },
 "nbformat": 4,
 "nbformat_minor": 5
}
